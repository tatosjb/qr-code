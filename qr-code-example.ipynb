{
 "cells": [
  {
   "cell_type": "code",
   "execution_count": 5,
   "metadata": {},
   "outputs": [],
   "source": [
    "from PIL import Image, ImageDraw\n",
    "import numpy as np"
   ]
  },
  {
   "cell_type": "code",
   "execution_count": 329,
   "metadata": {},
   "outputs": [
    {
     "name": "stdout",
     "output_type": "stream",
     "text": [
      "7.559055118110237\n",
      "159\n"
     ]
    }
   ],
   "source": [
    "## É necessária fazer a conversão de milímetros para pixels para seguir a especificação\n",
    "## Abaixo a explicação da fórmula\n",
    "\n",
    "# 1 Polegada é igual a 25.4mm\n",
    "# DPI significa dots per inch, ou em português, pontos por polegada, ENTÃO\n",
    "# 96 dpi significa 96 pontos para cada polegada\n",
    "# O tamanho de um bit, é de 0,25mm\n",
    "# Cada bloco tem 8 bits, fazendo com que cada bloco contenha 2mm\n",
    "# PIXELS = DPI * TAMANHO_TOTAL_EM_MILIMETROS / TAMANHO_DE_UMA_POLEGADA_EM_MILIMETROS\n",
    "# \n",
    "# O QR Code, necessita também, de uma margem de 4 blocos de cada lado, sendo assim\n",
    "# vamos precisar definir o valor de margem como 8 blocos na horizontal e 8 na vertical\n",
    "# 4 na direita, 4 na esquerda, 4 em cima e 4 embaixo.\n",
    "\n",
    "UMA_POLEGADA = 25.4\n",
    "DPI = 96\n",
    "TAMANHO_DE_UM_BLOCO = 2\n",
    "MAGEM_EM_BLOCOS = 8\n",
    "\n",
    "tamanho_em_pixels =  DPI * TAMANHO_DE_UM_BLOCO / UMA_POLEGADA\n",
    "\n",
    "NUMERO_DE_BLOCOS = 21 \n",
    "print(tamanho_em_pixels)\n",
    "\n",
    "MARGIN = int(tamanho_em_pixels * MAGEM_EM_BLOCOS + 1)\n",
    "IMAGE_SIZE = int(tamanho_em_pixels * NUMERO_DE_BLOCOS + 1)\n",
    "GRAY = (150, 150, 150)\n",
    "WHITE = (255, 255, 255)\n",
    "RED = (255, 0, 0)\n",
    "BLACK = (0, 0, 0)\n",
    "\n",
    "print(IMAGE_SIZE)"
   ]
  },
  {
   "cell_type": "code",
   "execution_count": 314,
   "metadata": {},
   "outputs": [],
   "source": [
    "def print_vector(matrix):\n",
    "    for array in matrix:\n",
    "        print(array)    "
   ]
  },
  {
   "cell_type": "code",
   "execution_count": 315,
   "metadata": {},
   "outputs": [],
   "source": [
    "def merge_matrix(origin_matrix, values_to_override, axis = [0, 0]):\n",
    "    for i, array in enumerate(origin_matrix):\n",
    "        if i > 6 :\n",
    "            break\n",
    "            \n",
    "        for j, value in enumerate(array):\n",
    "            if j > 6:\n",
    "                break\n",
    "                \n",
    "            origin_matrix[i + axis[0]][j + axis[1]] = values_to_override[i][j]"
   ]
  },
  {
   "cell_type": "code",
   "execution_count": 316,
   "metadata": {},
   "outputs": [
    {
     "name": "stdout",
     "output_type": "stream",
     "text": [
      "[0 0 0 0 0 0 0]\n",
      "[0 1 1 1 1 1 0]\n",
      "[0 1 0 0 0 1 0]\n",
      "[0 1 0 0 0 1 0]\n",
      "[0 1 0 0 0 1 0]\n",
      "[0 1 1 1 1 1 0]\n",
      "[0 0 0 0 0 0 0]\n"
     ]
    }
   ],
   "source": [
    "square = np.array(\n",
    "[\n",
    "    [0, 0, 0, 0, 0, 0, 0],\n",
    "    [0, 1, 1, 1, 1, 1, 0],\n",
    "    [0, 1, 0, 0, 0, 1, 0],\n",
    "    [0, 1, 0, 0, 0, 1, 0],\n",
    "    [0, 1, 0, 0, 0, 1, 0],\n",
    "    [0, 1, 1, 1, 1, 1, 0],\n",
    "    [0, 0, 0, 0, 0, 0, 0]\n",
    "])\n",
    "print_vector(square)"
   ]
  },
  {
   "cell_type": "code",
   "execution_count": 345,
   "metadata": {},
   "outputs": [
    {
     "name": "stdout",
     "output_type": "stream",
     "text": [
      "[0 0 0 0 0 0 0 0 0 0 0 0 0 0 0 0 0 0 0 0 0]\n",
      "[0 1 1 1 1 1 0 0 0 0 0 0 0 0 0 1 1 1 1 1 0]\n",
      "[0 1 0 0 0 1 0 0 0 0 0 0 0 0 0 1 0 0 0 1 0]\n",
      "[0 1 0 0 0 1 0 0 0 0 0 0 0 0 0 1 0 0 0 1 0]\n",
      "[0 1 0 0 0 1 0 0 0 0 0 0 0 0 0 1 0 0 0 1 0]\n",
      "[0 1 1 1 1 1 0 0 0 0 0 0 0 0 0 1 1 1 1 1 0]\n",
      "[0 0 0 0 0 0 0 0 0 0 0 0 0 0 0 0 0 0 0 0 0]\n",
      "[0 0 0 0 0 0 0 0 0 0 0 0 0 0 0 0 0 0 0 0 0]\n",
      "[0 0 0 0 0 0 0 0 0 0 0 0 0 0 0 0 0 0 0 0 0]\n",
      "[0 0 0 0 0 0 0 0 0 0 0 0 0 0 0 0 0 0 0 0 0]\n",
      "[0 0 0 0 0 0 0 0 0 0 0 0 0 0 0 0 0 0 0 0 0]\n",
      "[0 0 0 0 0 0 0 0 0 0 0 0 0 0 0 0 0 0 0 0 0]\n",
      "[0 0 0 0 0 0 0 0 0 0 0 0 0 0 0 0 0 0 0 0 0]\n",
      "[0 0 0 0 0 0 0 0 0 0 0 0 0 0 0 0 0 0 0 0 0]\n",
      "[0 0 0 0 0 0 0 0 0 0 0 0 0 0 0 0 0 0 0 0 0]\n",
      "[0 1 1 1 1 1 0 0 0 0 0 0 0 0 0 0 0 0 0 0 0]\n",
      "[0 1 0 0 0 1 0 0 0 0 0 0 0 0 0 0 0 0 0 0 0]\n",
      "[0 1 0 0 0 1 0 0 0 0 0 0 0 0 0 0 0 0 0 0 0]\n",
      "[0 1 0 0 0 1 0 0 0 0 0 0 0 0 0 0 0 0 0 0 0]\n",
      "[0 1 1 1 1 1 0 0 0 0 0 0 0 0 0 0 0 0 0 0 0]\n",
      "[0 0 0 0 0 0 0 0 0 0 0 0 0 0 0 0 0 0 0 0 0]\n"
     ]
    }
   ],
   "source": [
    "blocks_matrix = np.zeros((21, 21), dtype=int)\n",
    "merge_matrix(blocks_matrix, square, [0, 0])\n",
    "merge_matrix(blocks_matrix, square, [blocks_matrix.shape[0] - 7, 0])\n",
    "merge_matrix(blocks_matrix, square, [0, blocks_matrix.shape[0] - 7])\n",
    "print_vector(blocks_matrix)    \n"
   ]
  },
  {
   "cell_type": "code",
   "execution_count": null,
   "metadata": {},
   "outputs": [],
   "source": []
  },
  {
   "cell_type": "code",
   "execution_count": 342,
   "metadata": {},
   "outputs": [],
   "source": [
    "def draw_square(x, y, size, color):\n",
    "    incremento_de_margem = (MARGIN) / 2\n",
    "    x_axis = x + incremento_de_margem\n",
    "    y_axis = y + incremento_de_margem\n",
    "    width = x + size + incremento_de_margem\n",
    "    height = y + size + incremento_de_margem\n",
    "    draw.rectangle([x_axis, y_axis, width, height], fill=color)\n",
    "\n",
    "def draw_qr_code(matrix):\n",
    "    for i, array in enumerate(matrix):\n",
    "        for j, value in enumerate(array):\n",
    "            if value == 0:\n",
    "                draw_square(j * tamanho_em_pixels, i * tamanho_em_pixels, tamanho_em_pixels, BLACK)\n",
    "            else:\n",
    "                draw_square(j * tamanho_em_pixels, i * tamanho_em_pixels, tamanho_em_pixels, WHITE)"
   ]
  },
  {
   "cell_type": "code",
   "execution_count": 343,
   "metadata": {},
   "outputs": [
    {
     "data": {
      "image/png": "[encoded data removed]",
      "text/plain": [
       "<PIL.Image.Image image mode=RGB size=220x220 at 0x7FE8DD1F6EF0>"
      ]
     },
     "execution_count": 343,
     "metadata": {},
     "output_type": "execute_result"
    }
   ],
   "source": [
    "image = Image.new(\"RGB\", (IMAGE_SIZE + MARGIN, IMAGE_SIZE + MARGIN), WHITE)\n",
    "draw = ImageDraw.Draw(image)\n",
    "\n",
    "draw_square(0, 0, 20,BLACK)\n",
    "\n",
    "image.info = {'dpi': (96, 96)}\n",
    "\n",
    "draw_qr_code(blocks_matrix)\n",
    "image"
   ]
  }
 ],
 "metadata": {
  "kernelspec": {
   "display_name": "Python 3",
   "language": "python",
   "name": "python3"
  },
  "language_info": {
   "codemirror_mode": {
    "name": "ipython",
    "version": 3
   },
   "file_extension": ".py",
   "mimetype": "text/x-python",
   "name": "python",
   "nbconvert_exporter": "python",
   "pygments_lexer": "ipython3",
   "version": "3.6.4"
  }
 },
 "nbformat": 4,
 "nbformat_minor": 2
}
