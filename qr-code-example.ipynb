{
 "cells": [
  {
   "cell_type": "code",
   "execution_count": 1,
   "metadata": {},
   "outputs": [
    {
     "ename": "ModuleNotFoundError",
     "evalue": "No module named 'numpy'",
     "output_type": "error",
     "traceback": [
      "\u001b[0;31m---------------------------------------------------------------------------\u001b[0m",
      "\u001b[0;31mModuleNotFoundError\u001b[0m                       Traceback (most recent call last)",
      "\u001b[0;32m<ipython-input-1-af9daaf0f570>\u001b[0m in \u001b[0;36m<module>\u001b[0;34m()\u001b[0m\n\u001b[1;32m      1\u001b[0m \u001b[0;32mfrom\u001b[0m \u001b[0mPIL\u001b[0m \u001b[0;32mimport\u001b[0m \u001b[0mImage\u001b[0m\u001b[0;34m,\u001b[0m \u001b[0mImageDraw\u001b[0m\u001b[0;34m\u001b[0m\u001b[0m\n\u001b[0;32m----> 2\u001b[0;31m \u001b[0;32mimport\u001b[0m \u001b[0mnumpy\u001b[0m \u001b[0;32mas\u001b[0m \u001b[0mnp\u001b[0m\u001b[0;34m\u001b[0m\u001b[0m\n\u001b[0m",
      "\u001b[0;31mModuleNotFoundError\u001b[0m: No module named 'numpy'"
     ]
    }
   ],
   "source": [
    "from PIL import Image, ImageDraw\n",
    "import numpy as np"
   ]
  },
  {
   "cell_type": "code",
   "execution_count": 151,
   "metadata": {},
   "outputs": [],
   "source": [
    "IMAGE_SIZE = 300\n",
    "\n",
    "MODULE_SIZE = IMAGE_SIZE / 65\n",
    "MARGIN = MODULE_SIZE * 4\n",
    "ALIGNMENT_SQUARE_SIZE = int(MODULE_SIZE * 6)\n",
    "\n",
    "GRAY = (150, 150, 150)\n",
    "WHITE = (255, 255, 255)\n",
    "RED = (255, 0, 0)\n",
    "BLACK = (0, 0, 0)"
   ]
  },
  {
   "cell_type": "code",
   "execution_count": 152,
   "metadata": {},
   "outputs": [
    {
     "data": {
      "image/png": "[encoded data removed]",
      "text/plain": [
       "<PIL.Image.Image image mode=RGB size=300x300 at 0x7F8134DDB048>"
      ]
     },
     "execution_count": 152,
     "metadata": {},
     "output_type": "execute_result"
    }
   ],
   "source": [
    "image = Image.new(\"RGB\", (IMAGE_SIZE, IMAGE_SIZE), WHITE)\n",
    "draw = ImageDraw.Draw(image)\n",
    "\n",
    "def draw_square(x, y, size, color):\n",
    "    draw.rectangle([x, y, x + size, y + size], fill=color)\n",
    "\n",
    "    \n",
    "def draw_alignment_squares(x, y, size):\n",
    "    draw_square(x, y, size, BLACK)\n",
    "    draw_square(x + MODULE_SIZE, y + MODULE_SIZE, size - MODULE_SIZE * 2, WHITE)\n",
    "    draw_square(x + MODULE_SIZE * 2, y + MODULE_SIZE * 2, size - MODULE_SIZE * 4, BLACK)\n",
    "    \n",
    "\n",
    "draw_alignment_squares(MARGIN, MARGIN, ALIGNMENT_SQUARE_SIZE)\n",
    "draw_alignment_squares(IMAGE_SIZE - ALIGNMENT_SQUARE_SIZE, MARGIN, ALIGNMENT_SQUARE_SIZE)\n",
    "draw_alignment_squares(MARGIN, IMAGE_SIZE - ALIGNMENT_SQUARE_SIZE, ALIGNMENT_SQUARE_SIZE)\n",
    "\n",
    "\n",
    "image"
   ]
  },
  {
   "cell_type": "code",
   "execution_count": 115,
   "metadata": {},
   "outputs": [
    {
     "ename": "SyntaxError",
     "evalue": "invalid syntax (<ipython-input-115-144eead25e09>, line 5)",
     "output_type": "error",
     "traceback": [
      "\u001b[0;36m  File \u001b[0;32m\"<ipython-input-115-144eead25e09>\"\u001b[0;36m, line \u001b[0;32m5\u001b[0m\n\u001b[0;31m    a = (a='a')\u001b[0m\n\u001b[0m          ^\u001b[0m\n\u001b[0;31mSyntaxError\u001b[0m\u001b[0;31m:\u001b[0m invalid syntax\n"
     ]
    }
   ],
   "source": [
    "a = {'a':3}\n",
    "a\n",
    "a['a']\n",
    "\n",
    "a = (a='a')"
   ]
  }
 ],
 "metadata": {
  "kernelspec": {
   "display_name": "Python 3",
   "language": "python",
   "name": "python3"
  },
  "language_info": {
   "codemirror_mode": {
    "name": "ipython",
    "version": 3
   },
   "file_extension": ".py",
   "mimetype": "text/x-python",
   "name": "python",
   "nbconvert_exporter": "python",
   "pygments_lexer": "ipython3",
   "version": "3.6.4"
  }
 },
 "nbformat": 4,
 "nbformat_minor": 2
}
